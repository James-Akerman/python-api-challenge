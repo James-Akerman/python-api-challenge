{
 "cells": [
  {
   "cell_type": "markdown",
   "metadata": {},
   "source": [
    "# VacationPy\n",
    "----\n",
    "\n",
    "#### Note\n",
    "* Keep an eye on your API usage. Use https://developers.google.com/maps/reporting/gmp-reporting as reference for how to monitor your usage and billing.\n",
    "\n",
    "* Instructions have been included for each segment. You do not have to follow them exactly, but they are included to help you think through the steps."
   ]
  },
  {
   "cell_type": "code",
   "execution_count": 19,
   "metadata": {},
   "outputs": [],
   "source": [
    "# Dependencies and Setup\n",
    "import matplotlib.pyplot as plt\n",
    "import pandas as pd\n",
    "import numpy as np\n",
    "import requests\n",
    "import gmaps\n",
    "import os\n",
    "from api_keys import g_key"
   ]
  },
  {
   "cell_type": "markdown",
   "metadata": {},
   "source": [
    "### Store Part I results into DataFrame\n",
    "* Load the csv exported in Part I to a DataFrame"
   ]
  },
  {
   "cell_type": "code",
   "execution_count": 20,
   "metadata": {},
   "outputs": [
    {
     "data": {
      "text/html": [
       "<div>\n",
       "<style scoped>\n",
       "    .dataframe tbody tr th:only-of-type {\n",
       "        vertical-align: middle;\n",
       "    }\n",
       "\n",
       "    .dataframe tbody tr th {\n",
       "        vertical-align: top;\n",
       "    }\n",
       "\n",
       "    .dataframe thead th {\n",
       "        text-align: right;\n",
       "    }\n",
       "</style>\n",
       "<table border=\"1\" class=\"dataframe\">\n",
       "  <thead>\n",
       "    <tr style=\"text-align: right;\">\n",
       "      <th></th>\n",
       "      <th>City</th>\n",
       "      <th>Lat</th>\n",
       "      <th>Lng</th>\n",
       "      <th>Max Temp</th>\n",
       "      <th>Humidity</th>\n",
       "      <th>Cloudiness</th>\n",
       "      <th>Wind Speed</th>\n",
       "      <th>Country</th>\n",
       "      <th>Date</th>\n",
       "    </tr>\n",
       "  </thead>\n",
       "  <tbody>\n",
       "    <tr>\n",
       "      <th>0</th>\n",
       "      <td>Vendas Novas</td>\n",
       "      <td>38.6771</td>\n",
       "      <td>-8.4579</td>\n",
       "      <td>80.71</td>\n",
       "      <td>38</td>\n",
       "      <td>0</td>\n",
       "      <td>5.66</td>\n",
       "      <td>PT</td>\n",
       "      <td>1631800657</td>\n",
       "    </tr>\n",
       "    <tr>\n",
       "      <th>1</th>\n",
       "      <td>Arlit</td>\n",
       "      <td>18.7369</td>\n",
       "      <td>7.3853</td>\n",
       "      <td>105.08</td>\n",
       "      <td>9</td>\n",
       "      <td>5</td>\n",
       "      <td>3.29</td>\n",
       "      <td>NE</td>\n",
       "      <td>1631800658</td>\n",
       "    </tr>\n",
       "    <tr>\n",
       "      <th>2</th>\n",
       "      <td>Santa Cruz de la Sierra</td>\n",
       "      <td>-17.8000</td>\n",
       "      <td>-63.1667</td>\n",
       "      <td>69.26</td>\n",
       "      <td>52</td>\n",
       "      <td>75</td>\n",
       "      <td>12.66</td>\n",
       "      <td>BO</td>\n",
       "      <td>1631800406</td>\n",
       "    </tr>\n",
       "    <tr>\n",
       "      <th>3</th>\n",
       "      <td>Montepuez</td>\n",
       "      <td>-13.1256</td>\n",
       "      <td>38.9997</td>\n",
       "      <td>92.12</td>\n",
       "      <td>23</td>\n",
       "      <td>5</td>\n",
       "      <td>5.82</td>\n",
       "      <td>MZ</td>\n",
       "      <td>1631800661</td>\n",
       "    </tr>\n",
       "    <tr>\n",
       "      <th>4</th>\n",
       "      <td>Cockburn Town</td>\n",
       "      <td>21.4612</td>\n",
       "      <td>-71.1419</td>\n",
       "      <td>84.16</td>\n",
       "      <td>74</td>\n",
       "      <td>40</td>\n",
       "      <td>11.50</td>\n",
       "      <td>TC</td>\n",
       "      <td>1631800662</td>\n",
       "    </tr>\n",
       "  </tbody>\n",
       "</table>\n",
       "</div>"
      ],
      "text/plain": [
       "                      City      Lat      Lng  Max Temp  Humidity  Cloudiness  \\\n",
       "0             Vendas Novas  38.6771  -8.4579     80.71        38           0   \n",
       "1                    Arlit  18.7369   7.3853    105.08         9           5   \n",
       "2  Santa Cruz de la Sierra -17.8000 -63.1667     69.26        52          75   \n",
       "3                Montepuez -13.1256  38.9997     92.12        23           5   \n",
       "4            Cockburn Town  21.4612 -71.1419     84.16        74          40   \n",
       "\n",
       "   Wind Speed Country        Date  \n",
       "0        5.66      PT  1631800657  \n",
       "1        3.29      NE  1631800658  \n",
       "2       12.66      BO  1631800406  \n",
       "3        5.82      MZ  1631800661  \n",
       "4       11.50      TC  1631800662  "
      ]
     },
     "execution_count": 20,
     "metadata": {},
     "output_type": "execute_result"
    }
   ],
   "source": [
    "# Load the csv into a data frame\n",
    "weather_data = pd.read_csv(\"output/world_cities.csv\")\n",
    "# Check it\n",
    "weather_data.head()"
   ]
  },
  {
   "cell_type": "markdown",
   "metadata": {},
   "source": [
    "### Humidity Heatmap\n",
    "* Configure gmaps.\n",
    "* Use the Lat and Lng as locations and Humidity as the weight.\n",
    "* Add Heatmap layer to map."
   ]
  },
  {
   "cell_type": "code",
   "execution_count": 21,
   "metadata": {},
   "outputs": [],
   "source": [
    "# Configure gmaps\n",
    "gmaps.configure(api_key=g_key)"
   ]
  },
  {
   "cell_type": "code",
   "execution_count": 22,
   "metadata": {},
   "outputs": [
    {
     "data": {
      "application/vnd.jupyter.widget-view+json": {
       "model_id": "c75b9cf1c9fc415e8b524009f41b226c",
       "version_major": 2,
       "version_minor": 0
      },
      "text/plain": [
       "Figure(layout=FigureLayout(height='420px'))"
      ]
     },
     "metadata": {},
     "output_type": "display_data"
    }
   ],
   "source": [
    "# Step 1: Store latitude and longitude in locations\n",
    "locations = weather_data[[\"Lat\", \"Lng\"]]\n",
    "\n",
    "# Fill NaN values and convert to float\n",
    "humidity = weather_data[\"Humidity\"].astype(float)\n",
    "\n",
    "# Plot Heatmap\n",
    "fig = gmaps.figure()\n",
    "\n",
    "# Create heat layer\n",
    "heat_layer = gmaps.heatmap_layer(locations, weights = humidity, \n",
    "                                 dissipating = True, max_intensity = 100,\n",
    "                                 point_radius = 20)\n",
    "\n",
    "# Add layer\n",
    "fig.add_layer(heat_layer)\n",
    "\n",
    "# Display figure\n",
    "fig"
   ]
  },
  {
   "cell_type": "markdown",
   "metadata": {},
   "source": [
    "### Create new DataFrame fitting weather criteria\n",
    "* Narrow down the cities to fit weather conditions.\n",
    "* Drop any rows will null values."
   ]
  },
  {
   "cell_type": "code",
   "execution_count": 24,
   "metadata": {},
   "outputs": [],
   "source": [
    "# Step 1 - Find only cities that meet the following ideal weather conditions\n",
    "# A max temperature lower than 80 degrees but higher than 70.\n",
    "# Wind speed less than 10 mph.\n",
    "# Zero cloudiness.\n",
    "ideal_weather_data = weather_data.loc[(weather_data[\"Max Temp\"] < 80) & \n",
    "                                        (weather_data[\"Max Temp\"] > 70) &\n",
    "                                        (weather_data[\"Wind Speed\"] < 10) & \n",
    "                                        (weather_data[\"Cloudiness\"] == 0)]\n",
    "\n",
    "# Step 2 - Drop any rows with null values\n",
    "ideal_weather_data = ideal_weather_data.dropna()\n",
    "\n",
    "# Step 3 - Select only the top 10 cities from this data\n",
    "ideal_weather_data_top_10 = ideal_weather_data.head(10)\n",
    "ideal_weather_data_top_10 # There are 10 rows\n",
    "\n",
    "# Step 4 - export the data to a csv (to avoid a warning message later)\n",
    "ideal_weather_data_top_10.to_csv(\"output/ideal_weather_data_top_10.csv\",index = False)"
   ]
  },
  {
   "cell_type": "markdown",
   "metadata": {},
   "source": [
    "### Hotel Map\n",
    "* Store into variable named `hotel_df`.\n",
    "* Add a \"Hotel Name\" column to the DataFrame.\n",
    "* Set parameters to search for hotels with 5000 meters.\n",
    "* Hit the Google Places API for each city's coordinates.\n",
    "* Store the first Hotel result into the DataFrame.\n",
    "* Plot markers on top of the heatmap."
   ]
  },
  {
   "cell_type": "code",
   "execution_count": 25,
   "metadata": {},
   "outputs": [
    {
     "name": "stdout",
     "output_type": "stream",
     "text": [
      "The nearest hotel to the city of Jacareacanga is HOTEL VIANA.\n",
      "-----------------------------------------------------\n",
      "The nearest hotel to the city of Siloam Springs is Holiday Inn Express & Suites Siloam Springs, an IHG Hotel.\n",
      "-----------------------------------------------------\n",
      "The nearest hotel to the city of Saint George is Red Lion Hotel & Conference Center St. George.\n",
      "-----------------------------------------------------\n",
      "The nearest hotel to the city of Santa Fe is InterTower Hotel.\n",
      "-----------------------------------------------------\n",
      "The nearest hotel to the city of Kherson is Greenstone.\n",
      "-----------------------------------------------------\n",
      "The nearest hotel to the city of Vila is Hotel Castrum Villae.\n",
      "-----------------------------------------------------\n",
      "The nearest hotel to the city of Adelaide is InterContinental Adelaide, an IHG Hotel.\n",
      "-----------------------------------------------------\n",
      "The nearest hotel to the city of Hurricane is My Place Hotel- Hurricane, UT.\n",
      "-----------------------------------------------------\n",
      "The nearest hotel to the city of Chu is Shu Palace Hotel.\n",
      "-----------------------------------------------------\n",
      "The nearest hotel to the city of San Fernando del Valle de Catamarca is Hotel Suma Huasi.\n",
      "-----------------------------------------------------\n"
     ]
    }
   ],
   "source": [
    "# Store the ideal weather data into a variable named hotel_df\n",
    "hotel_df = pd.read_csv(\"output/ideal_weather_data_top_10.csv\")\n",
    "\n",
    "# Add a \"Hotel Name\" column to the DataFrame.\n",
    "hotel_df[\"Hotel Name\"] = \"\"\n",
    "# Base URL\n",
    "base_url = \"https://maps.googleapis.com/maps/api/place/nearbysearch/json\"\n",
    "\n",
    "# use iterrows to iterate through pandas dataframe\n",
    "for index, row in hotel_df.iterrows():\n",
    "    \n",
    "    # Set the parameters of the search\n",
    "    params = {\"keyword\": \"hotel\",\n",
    "          \"type\": \"lodging\",\n",
    "          \"key\": g_key,\n",
    "          \"radius\": 5000,\n",
    "          \"location\": f\"{hotel_df.loc[index, 'Lat']}, {hotel_df.loc[index, 'Lng']}\"\n",
    "        }\n",
    "    \n",
    "    # assemble url and make API request\n",
    "    try: \n",
    "        response = requests.get(base_url, params=params).json()\n",
    "        # Get the hotel name\n",
    "        hotel_name = response[\"results\"][0][\"name\"]\n",
    "        # Assign it to the hotel DataFrame\n",
    "        hotel_df.loc[index, 'Hotel Name'] = hotel_name\n",
    "        # Log the result\n",
    "        print(f\"The nearest hotel to the city of {hotel_df.loc[index, 'City']} is {hotel_name}.\")\n",
    "        \n",
    "    except (KeyError, IndexError):\n",
    "        print(\"Missing field/result... skipping.\")\n",
    "    \n",
    "    print(\"-----------------------------------------------------\")\n"
   ]
  },
  {
   "cell_type": "code",
   "execution_count": 26,
   "metadata": {},
   "outputs": [],
   "source": [
    "# NOTE: Do not change any of the code in this cell\n",
    "\n",
    "# Using the template add the hotel marks to the heatmap\n",
    "info_box_template = \"\"\"\n",
    "<dl>\n",
    "<dt>Name</dt><dd>{Hotel Name}</dd>\n",
    "<dt>City</dt><dd>{City}</dd>\n",
    "<dt>Country</dt><dd>{Country}</dd>\n",
    "</dl>\n",
    "\"\"\"\n",
    "# Store the DataFrame Row\n",
    "# NOTE: be sure to update with your DataFrame name\n",
    "hotel_info = [info_box_template.format(**row) for index, row in hotel_df.iterrows()]\n",
    "hotel_info\n",
    "city_locations = hotel_df[[\"Lat\", \"Lng\"]]"
   ]
  },
  {
   "cell_type": "code",
   "execution_count": 27,
   "metadata": {},
   "outputs": [
    {
     "data": {
      "application/vnd.jupyter.widget-view+json": {
       "model_id": "c75b9cf1c9fc415e8b524009f41b226c",
       "version_major": 2,
       "version_minor": 0
      },
      "text/plain": [
       "Figure(layout=FigureLayout(height='420px'))"
      ]
     },
     "metadata": {},
     "output_type": "display_data"
    }
   ],
   "source": [
    "# Add the hotel markers to the heat map\n",
    "markers = gmaps.marker_layer(city_locations, info_box_content = hotel_info)\n",
    "fig.add_layer(markers)\n",
    "# Display the improved heat map\n",
    "fig"
   ]
  },
  {
   "cell_type": "code",
   "execution_count": null,
   "metadata": {},
   "outputs": [],
   "source": []
  }
 ],
 "metadata": {
  "kernelspec": {
   "display_name": "Python 3",
   "language": "python",
   "name": "python3"
  },
  "language_info": {
   "codemirror_mode": {
    "name": "ipython",
    "version": 3
   },
   "file_extension": ".py",
   "mimetype": "text/x-python",
   "name": "python",
   "nbconvert_exporter": "python",
   "pygments_lexer": "ipython3",
   "version": "3.8.8"
  },
  "latex_envs": {
   "LaTeX_envs_menu_present": true,
   "autoclose": false,
   "autocomplete": true,
   "bibliofile": "biblio.bib",
   "cite_by": "apalike",
   "current_citInitial": 1,
   "eqLabelWithNumbers": true,
   "eqNumInitial": 1,
   "hotkeys": {
    "equation": "Ctrl-E",
    "itemize": "Ctrl-I"
   },
   "labels_anchors": false,
   "latex_user_defs": false,
   "report_style_numbering": false,
   "user_envs_cfg": false
  }
 },
 "nbformat": 4,
 "nbformat_minor": 4
}
