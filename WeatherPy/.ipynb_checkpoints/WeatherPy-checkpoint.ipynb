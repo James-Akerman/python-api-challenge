{
 "cells": [
  {
   "cell_type": "markdown",
   "metadata": {},
   "source": [
    "# WeatherPy\n",
    "----\n",
    "\n",
    "#### Note\n",
    "* Instructions have been included for each segment. You do not have to follow them exactly, but they are included to help you think through the steps."
   ]
  },
  {
   "cell_type": "code",
   "execution_count": 1,
   "metadata": {
    "scrolled": true
   },
   "outputs": [],
   "source": [
    "# Dependencies\n",
    "import matplotlib.pyplot as plt\n",
    "import requests\n",
    "from scipy import stats\n",
    "import pandas as pd\n",
    "from pprint import pprint\n",
    "import numpy as np\n",
    "# from citipy import citipy\n",
    "# from citipy.citipy import cities\n",
    "# print(cities)\n",
    "# #print(dir(python_cities))\n",
    "#help(citipy)\n",
    "# for row in cities:\n",
    "#     for e in row:\n",
    "#         print(e)\n",
    "# new = pd.read_csv(python_cities.cities)\n",
    "# new\n",
    "#print(type(cities))\n",
    "weather_api_key = \"\""
   ]
  },
  {
   "cell_type": "markdown",
   "metadata": {},
   "source": [
    "## Generate Cities List"
   ]
  },
  {
   "cell_type": "code",
   "execution_count": 2,
   "metadata": {},
   "outputs": [
    {
     "name": "stdout",
     "output_type": "stream",
     "text": [
      "800\n"
     ]
    }
   ],
   "source": [
    "# wordcities.csv file sourced from \"https://simplemaps.com/data/world-cities\"\n",
    "world_cities = pd.read_csv(\"Resources\\worldcities.csv\")\n",
    "# Get the top four cities by population from each country.\n",
    "four_cities_per_country = world_cities.sort_values(by=[\"country\",\"population\"],ascending=[True,False]).groupby([\"country\"]).head(4)\n",
    "cities_list = four_cities_per_country[\"city_ascii\"]\n",
    "cities_list = list(cities_list)\n",
    "# There are 800 cities\n",
    "print(len(cities_list))\n",
    "# Split them into a list of lists\n",
    "city_list = np.array_split(cities_list, 16)\n"
   ]
  },
  {
   "cell_type": "markdown",
   "metadata": {},
   "source": [
    "### Perform API Calls\n",
    "* Perform a weather check on each city using a series of successive API calls.\n",
    "* Include a print log of each city as it'sbeing processed (with the city number and city name).\n"
   ]
  },
  {
   "cell_type": "code",
   "execution_count": 3,
   "metadata": {
    "scrolled": true
   },
   "outputs": [
    {
     "name": "stdout",
     "output_type": "stream",
     "text": [
      "Beginning Data Retrieval\n",
      "-----------------------------\n",
      "Processing Record 1 of Set 1 | Kabul\n",
      "Processing Record 2 of Set 1 | Kandahar\n",
      "Processing Record 3 of Set 1 | Herat Province\n",
      "Processing Record 4 of Set 1 | Mazari Sharif\n",
      "Processing Record 5 of Set 1 | Tirana\n",
      "Processing Record 6 of Set 1 | Durrës\n",
      "Processing Record 7 of Set 1 | Vlorë\n",
      "Processing Record 8 of Set 1 | Kamëz\n",
      "Processing Record 9 of Set 1 | Algiers\n",
      "Processing Record 10 of Set 1 | Oran\n",
      "Processing Record 11 of Set 1 | Constantine\n",
      "Processing Record 12 of Set 1 | Blida\n",
      "Processing Record 13 of Set 1 | Pago Pago\n",
      "Processing Record 14 of Set 1 | Andorra la Vella\n",
      "Processing Record 15 of Set 1 | Escaldes-Engordany\n",
      "Processing Record 16 of Set 1 | Encamp\n",
      "Processing Record 17 of Set 1 | La Massana\n",
      "Processing Record 18 of Set 1 | Luanda\n",
      "Processing Record 19 of Set 1 | Huambo\n",
      "Processing Record 20 of Set 1 | Lubango\n",
      "Processing Record 21 of Set 1 | Cabinda\n",
      "Processing Record 22 of Set 1 | The Valley\n",
      "Processing Record 23 of Set 1 | St. John's\n",
      "Processing Record 24 of Set 1 | Buenos Aires\n",
      "Processing Record 25 of Set 1 | Córdoba\n",
      "Processing Record 26 of Set 1 | Rosario\n",
      "Processing Record 27 of Set 1 | Comodoro Rivadavia\n",
      "Processing Record 28 of Set 1 | Yerevan\n",
      "Processing Record 29 of Set 1 | Gyumri\n",
      "Processing Record 30 of Set 1 | Vanadzor\n",
      "Processing Record 31 of Set 1 | Vagharshapat\n",
      "Processing Record 32 of Set 1 | Oranjestad\n",
      "City not found. Skipping...\n",
      "Processing Record 33 of Set 1 | Sydney\n",
      "Processing Record 34 of Set 1 | Melbourne\n",
      "Processing Record 35 of Set 1 | Brisbane\n",
      "Processing Record 36 of Set 1 | Perth\n",
      "Processing Record 37 of Set 1 | Vienna\n",
      "Processing Record 38 of Set 1 | Graz\n",
      "Processing Record 39 of Set 1 | Linz\n",
      "Processing Record 40 of Set 1 | Salzburg\n",
      "Processing Record 41 of Set 1 | Baku\n",
      "Processing Record 42 of Set 1 | Sumqayit\n",
      "Processing Record 43 of Set 1 | Ganja\n",
      "City not found. Skipping...\n",
      "Processing Record 44 of Set 1 | Nassau\n",
      "City not found. Skipping...\n",
      "Processing Record 45 of Set 1 | Marsh Harbour\n",
      "Processing Record 46 of Set 1 | Manama\n",
      "Processing Record 47 of Set 1 | Al Muharraq\n",
      "Processing Record 48 of Set 2 | Madīnat Ḩamad\n",
      "Processing Record 49 of Set 2 | Madīnat ‘Īsá\n",
      "Processing Record 50 of Set 2 | Dhaka\n",
      "City not found. Skipping...\n",
      "Processing Record 51 of Set 2 | Khulna\n",
      "Processing Record 52 of Set 2 | Sylhet Division\n",
      "Processing Record 53 of Set 2 | Bridgetown\n",
      "Processing Record 54 of Set 2 | Minsk\n",
      "Processing Record 55 of Set 2 | Gomel\n",
      "Processing Record 56 of Set 2 | Vitebsk\n",
      "Processing Record 57 of Set 2 | Mogilev\n",
      "Processing Record 58 of Set 2 | Brussels\n",
      "Processing Record 59 of Set 2 | Antwerp\n",
      "Processing Record 60 of Set 2 | Ghent\n",
      "Processing Record 61 of Set 2 | Charleroi\n",
      "Processing Record 62 of Set 2 | Belize City\n",
      "Processing Record 63 of Set 2 | Orange Walk District\n",
      "Processing Record 64 of Set 2 | Belmopan\n",
      "Processing Record 65 of Set 2 | San Ignacio\n",
      "Processing Record 66 of Set 2 | Cotonou\n",
      "Processing Record 67 of Set 2 | Porto-Novo\n",
      "Processing Record 68 of Set 2 | Djougou\n",
      "Processing Record 69 of Set 2 | Parakou\n",
      "Processing Record 70 of Set 2 | Hamilton\n",
      "Processing Record 71 of Set 2 | Thimphu\n",
      "Processing Record 72 of Set 2 | Paro\n",
      "Processing Record 73 of Set 2 | Wangdue Phodrang\n",
      "Processing Record 74 of Set 2 | Punakha\n",
      "Processing Record 75 of Set 2 | Santa Cruz de la Sierra\n",
      "Processing Record 76 of Set 2 | La Paz\n",
      "Processing Record 77 of Set 2 | Cochabamba\n",
      "Processing Record 78 of Set 2 | Sucre\n",
      "Processing Record 79 of Set 2 | Sarajevo\n",
      "Processing Record 80 of Set 2 | Banja Luka\n",
      "Processing Record 81 of Set 2 | Mostar\n",
      "Processing Record 82 of Set 2 | Bijeljina\n",
      "Processing Record 83 of Set 2 | Gaborone\n",
      "Processing Record 84 of Set 2 | Francistown\n",
      "Processing Record 85 of Set 2 | Molepolole\n",
      "Processing Record 86 of Set 2 | Maun\n",
      "Processing Record 87 of Set 2 | São Paulo\n",
      "Processing Record 88 of Set 2 | Rio de Janeiro\n",
      "Processing Record 89 of Set 2 | Belo Horizonte\n",
      "Processing Record 90 of Set 2 | Brasília\n",
      "Processing Record 91 of Set 2 | Brunei Town\n",
      "Processing Record 92 of Set 2 | Seria\n",
      "City not found. Skipping...\n",
      "City not found. Skipping...\n",
      "Processing Record 93 of Set 2 | Sofia\n",
      "Processing Record 94 of Set 2 | Varna\n",
      "-----------------------------\n",
      "Data Retrieval Complete\n",
      "-----------------------------\n"
     ]
    }
   ],
   "source": [
    "url = \"api.openweathermap.org/data/2.5/weather?q=\"\n",
    "city_number = 1\n",
    "\n",
    "\n",
    "# response = requests.get(\"https://\" + url + \"Sydney\" + \"&appid=\" + weather_api_key).json()\n",
    "\n",
    "# print(response[\"name\"])\n",
    "# print(response[\"coord\"][\"lon\"])\n",
    "# print(response[\"coord\"][\"lat\"])\n",
    "# print(response[\"main\"][\"temp_max\"])\n",
    "# print(response[\"main\"][\"humidity\"])\n",
    "# print(response[\"clouds\"][\"all\"])\n",
    "# print(response[\"wind\"][\"speed\"])\n",
    "# print(response[\"sys\"][\"country\"])\n",
    "# print(response[\"dt\"])\n",
    "#pprint(response)\n",
    "\n",
    "name_list, lon_list, lat_list, temp_max_list, humidity_list = ([] for i in range(5))\n",
    "cloudiness_list, windspeed_list, country_list, date_list = ([] for i in range(4))\n",
    "\n",
    "\n",
    "print(\"Beginning Data Retrieval\")     \n",
    "print(\"-----------------------------\")\n",
    "for set_id in range(0,len(city_list)-14):\n",
    "    for city in city_list[set_id]:\n",
    "        try: \n",
    "            response = requests.get(\"https://\" + url + city + \"&appid=\" + weather_api_key).json()\n",
    "            # Log Output\n",
    "            print(f\"Processing Record {city_number} of Set {set_id + 1} | {response['name']}\")\n",
    "            # Add all values to the directory\n",
    "            name_list.append(response[\"name\"])\n",
    "            lon_list.append(response[\"coord\"][\"lon\"])\n",
    "            lat_list.append(response[\"coord\"][\"lat\"])\n",
    "            temp_max_list.append(response[\"main\"][\"temp_max\"])\n",
    "            humidity_list.append(response[\"main\"][\"humidity\"])\n",
    "            cloudiness_list.append(response[\"clouds\"][\"all\"])\n",
    "            windspeed_list.append(response[\"wind\"][\"speed\"])\n",
    "            country_list.append(response[\"sys\"][\"country\"])\n",
    "            date_list.append(response[\"dt\"])\n",
    "            city_number += 1\n",
    "        except:\n",
    "            print(\"City not found. Skipping...\")\n",
    "    \n",
    "    #Reset City Number\n",
    "    city_number = 1\n",
    "\n",
    "print(\"-----------------------------\")\n",
    "print(\"Data Retrieval Complete\")      \n",
    "print(\"-----------------------------\")\n"
   ]
  },
  {
   "cell_type": "markdown",
   "metadata": {},
   "source": [
    "### Convert Raw Data to DataFrame\n",
    "* Export the city data into a .csv.\n",
    "* Display the DataFrame"
   ]
  },
  {
   "cell_type": "code",
   "execution_count": 12,
   "metadata": {},
   "outputs": [],
   "source": [
    "city_dict = {\n",
    "    \"City\": name_list,\n",
    "    \"Lat\": lat_list,\n",
    "    \"Lng\": lon_list,\n",
    "    \"Max Temp\": temp_max_list,\n",
    "    \"Humidity\": humidity_list,\n",
    "    \"Cloudiness\": cloudiness_list,\n",
    "    \"Wind Speed\": windspeed_list,\n",
    "    \"Country\": country_list,\n",
    "    \"Date\": date_list\n",
    "}\n",
    "data = pd.DataFrame(city_dict)\n",
    "data.to_csv(\"output/world_cities.csv\",index = False)"
   ]
  },
  {
   "cell_type": "code",
   "execution_count": null,
   "metadata": {},
   "outputs": [],
   "source": []
  },
  {
   "cell_type": "markdown",
   "metadata": {},
   "source": [
    "## Inspect the data and remove the cities where the humidity > 100%.\n",
    "----\n",
    "Skip this step if there are no cities that have humidity > 100%. "
   ]
  },
  {
   "cell_type": "code",
   "execution_count": null,
   "metadata": {},
   "outputs": [],
   "source": []
  },
  {
   "cell_type": "code",
   "execution_count": null,
   "metadata": {},
   "outputs": [],
   "source": [
    "#  Get the indices of cities that have humidity over 100%.\n"
   ]
  },
  {
   "cell_type": "code",
   "execution_count": null,
   "metadata": {},
   "outputs": [],
   "source": [
    "# Make a new DataFrame equal to the city data to drop all humidity outliers by index.\n",
    "# Passing \"inplace=False\" will make a copy of the city_data DataFrame, which we call \"clean_city_data\".\n"
   ]
  },
  {
   "cell_type": "code",
   "execution_count": null,
   "metadata": {},
   "outputs": [],
   "source": [
    "\n"
   ]
  },
  {
   "cell_type": "markdown",
   "metadata": {},
   "source": [
    "## Plotting the Data\n",
    "* Use proper labeling of the plots using plot titles (including date of analysis) and axes labels.\n",
    "* Save the plotted figures as .pngs."
   ]
  },
  {
   "cell_type": "markdown",
   "metadata": {},
   "source": [
    "## Latitude vs. Temperature Plot"
   ]
  },
  {
   "cell_type": "code",
   "execution_count": null,
   "metadata": {
    "scrolled": true
   },
   "outputs": [],
   "source": []
  },
  {
   "cell_type": "markdown",
   "metadata": {},
   "source": [
    "## Latitude vs. Humidity Plot"
   ]
  },
  {
   "cell_type": "code",
   "execution_count": null,
   "metadata": {},
   "outputs": [],
   "source": []
  },
  {
   "cell_type": "markdown",
   "metadata": {},
   "source": [
    "## Latitude vs. Cloudiness Plot"
   ]
  },
  {
   "cell_type": "code",
   "execution_count": null,
   "metadata": {},
   "outputs": [],
   "source": []
  },
  {
   "cell_type": "markdown",
   "metadata": {},
   "source": [
    "## Latitude vs. Wind Speed Plot"
   ]
  },
  {
   "cell_type": "code",
   "execution_count": null,
   "metadata": {},
   "outputs": [],
   "source": []
  },
  {
   "cell_type": "markdown",
   "metadata": {},
   "source": [
    "## Linear Regression"
   ]
  },
  {
   "cell_type": "code",
   "execution_count": null,
   "metadata": {},
   "outputs": [],
   "source": []
  },
  {
   "cell_type": "markdown",
   "metadata": {},
   "source": [
    "####  Northern Hemisphere - Max Temp vs. Latitude Linear Regression"
   ]
  },
  {
   "cell_type": "code",
   "execution_count": null,
   "metadata": {},
   "outputs": [],
   "source": []
  },
  {
   "cell_type": "markdown",
   "metadata": {},
   "source": [
    "####  Southern Hemisphere - Max Temp vs. Latitude Linear Regression"
   ]
  },
  {
   "cell_type": "code",
   "execution_count": null,
   "metadata": {},
   "outputs": [],
   "source": []
  },
  {
   "cell_type": "markdown",
   "metadata": {},
   "source": [
    "####  Northern Hemisphere - Humidity (%) vs. Latitude Linear Regression"
   ]
  },
  {
   "cell_type": "code",
   "execution_count": null,
   "metadata": {},
   "outputs": [],
   "source": []
  },
  {
   "cell_type": "markdown",
   "metadata": {},
   "source": [
    "####  Southern Hemisphere - Humidity (%) vs. Latitude Linear Regression"
   ]
  },
  {
   "cell_type": "code",
   "execution_count": null,
   "metadata": {},
   "outputs": [],
   "source": []
  },
  {
   "cell_type": "markdown",
   "metadata": {},
   "source": [
    "####  Northern Hemisphere - Cloudiness (%) vs. Latitude Linear Regression"
   ]
  },
  {
   "cell_type": "code",
   "execution_count": null,
   "metadata": {},
   "outputs": [],
   "source": []
  },
  {
   "cell_type": "markdown",
   "metadata": {},
   "source": [
    "####  Southern Hemisphere - Cloudiness (%) vs. Latitude Linear Regression"
   ]
  },
  {
   "cell_type": "code",
   "execution_count": null,
   "metadata": {},
   "outputs": [],
   "source": []
  },
  {
   "cell_type": "markdown",
   "metadata": {},
   "source": [
    "####  Northern Hemisphere - Wind Speed (mph) vs. Latitude Linear Regression"
   ]
  },
  {
   "cell_type": "code",
   "execution_count": null,
   "metadata": {},
   "outputs": [],
   "source": []
  },
  {
   "cell_type": "markdown",
   "metadata": {},
   "source": [
    "####  Southern Hemisphere - Wind Speed (mph) vs. Latitude Linear Regression"
   ]
  },
  {
   "cell_type": "code",
   "execution_count": null,
   "metadata": {},
   "outputs": [],
   "source": []
  },
  {
   "cell_type": "code",
   "execution_count": null,
   "metadata": {},
   "outputs": [],
   "source": []
  }
 ],
 "metadata": {
  "anaconda-cloud": {},
  "kernel_info": {
   "name": "python3"
  },
  "kernelspec": {
   "display_name": "Python 3",
   "language": "python",
   "name": "python3"
  },
  "language_info": {
   "codemirror_mode": {
    "name": "ipython",
    "version": 3
   },
   "file_extension": ".py",
   "mimetype": "text/x-python",
   "name": "python",
   "nbconvert_exporter": "python",
   "pygments_lexer": "ipython3",
   "version": "3.8.8"
  },
  "latex_envs": {
   "LaTeX_envs_menu_present": true,
   "autoclose": false,
   "autocomplete": true,
   "bibliofile": "biblio.bib",
   "cite_by": "apalike",
   "current_citInitial": 1,
   "eqLabelWithNumbers": true,
   "eqNumInitial": 1,
   "hotkeys": {
    "equation": "Ctrl-E",
    "itemize": "Ctrl-I"
   },
   "labels_anchors": false,
   "latex_user_defs": false,
   "report_style_numbering": false,
   "user_envs_cfg": false
  },
  "nteract": {
   "version": "0.12.3"
  }
 },
 "nbformat": 4,
 "nbformat_minor": 2
}
